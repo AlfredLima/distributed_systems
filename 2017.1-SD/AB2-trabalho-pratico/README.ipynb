{
 "cells": [
  {
   "cell_type": "markdown",
   "metadata": {},
   "source": [
    "<p align=\"center\">\n",
    "Universidade Federal de Alagoas</br>\n",
    "\n",
    "Instituto de Computação</br>\n",
    "\n",
    "</p>\n",
    "\n",
    "#Trabalho Prático AB2\n",
    "\n",
    "Disciplina: Sistemas Distribuídos\n",
    "\n",
    "Semestre letivo: 2017.1\n",
    "\n",
    "Professor: André Lage Freitas\n",
    "\n",
    "## Especificação\n",
    "\n",
    "**Importante**. Leia atentamente essa seção pois só serão aceitos trabalhos que obedecerem as a especificações a seguir. \n",
    "\n",
    "Baseado(a) no exemplo a seguir de implementação do B-multicast em Julia, façam os exercícios descritos nesse documento."
   ]
  },
  {
   "cell_type": "code",
   "execution_count": 8,
   "metadata": {},
   "outputs": [
    {
     "name": "stdout",
     "output_type": "stream",
     "text": [
      "\u001b[32m\u001b[1m  Updating\u001b[22m\u001b[39m registry at `~/.julia/registries/General`\n",
      "\u001b[32m\u001b[1m  Updating\u001b[22m\u001b[39m git-repo `https://github.com/JuliaRegistries/General.git`\n",
      "\u001b[2K\u001b[?25h[1mFetching:\u001b[22m\u001b[39m [========================================>]  100.0 %.0 %\u001b[32m\u001b[1m Resolving\u001b[22m\u001b[39m package versions...\n",
      "\u001b[32m\u001b[1m  Updating\u001b[22m\u001b[39m `~/.julia/environments/v1.0/Project.toml`\n",
      "\u001b[90m [no changes]\u001b[39m\n",
      "\u001b[32m\u001b[1m  Updating\u001b[22m\u001b[39m `~/.julia/environments/v1.0/Manifest.toml`\n",
      "\u001b[90m [no changes]\u001b[39m\n",
      "\u001b[32m\u001b[1m Resolving\u001b[22m\u001b[39m package versions...\n",
      "\u001b[32m\u001b[1m Installed\u001b[22m\u001b[39m RecipesBase ──────── v0.7.0\n",
      "\u001b[32m\u001b[1m Installed\u001b[22m\u001b[39m Requires ─────────── v0.5.2\n",
      "\u001b[32m\u001b[1m Installed\u001b[22m\u001b[39m Missings ─────────── v0.4.1\n",
      "\u001b[32m\u001b[1m Installed\u001b[22m\u001b[39m SortingAlgorithms ── v0.3.1\n",
      "\u001b[32m\u001b[1m Installed\u001b[22m\u001b[39m ColorTypes ───────── v0.8.0\n",
      "\u001b[32m\u001b[1m Installed\u001b[22m\u001b[39m Plots ────────────── v0.26.1\n",
      "\u001b[32m\u001b[1m Installed\u001b[22m\u001b[39m PlotUtils ────────── v0.5.8\n",
      "\u001b[32m\u001b[1m Installed\u001b[22m\u001b[39m NaNMath ──────────── v0.3.2\n",
      "\u001b[32m\u001b[1m Installed\u001b[22m\u001b[39m DataAPI ──────────── v1.0.1\n",
      "\u001b[32m\u001b[1m Installed\u001b[22m\u001b[39m FixedPointNumbers ── v0.6.1\n",
      "\u001b[32m\u001b[1m Installed\u001b[22m\u001b[39m Showoff ──────────── v0.3.1\n",
      "\u001b[32m\u001b[1m Installed\u001b[22m\u001b[39m OrderedCollections ─ v1.1.0\n",
      "\u001b[32m\u001b[1m Installed\u001b[22m\u001b[39m GR ───────────────── v0.41.0\n",
      "\u001b[32m\u001b[1m Installed\u001b[22m\u001b[39m Measures ─────────── v0.3.0\n",
      "\u001b[32m\u001b[1m Installed\u001b[22m\u001b[39m FFMPEG ───────────── v0.2.2\n",
      "\u001b[32m\u001b[1m Installed\u001b[22m\u001b[39m PlotThemes ───────── v0.3.0\n",
      "\u001b[32m\u001b[1m Installed\u001b[22m\u001b[39m Reexport ─────────── v0.2.0\n",
      "\u001b[32m\u001b[1m Installed\u001b[22m\u001b[39m StaticArrays ─────── v0.11.0\n",
      "\u001b[32m\u001b[1m Installed\u001b[22m\u001b[39m GeometryTypes ────── v0.7.5\n",
      "\u001b[32m\u001b[1m Installed\u001b[22m\u001b[39m Contour ──────────── v0.5.1\n",
      "\u001b[32m\u001b[1m Installed\u001b[22m\u001b[39m Colors ───────────── v0.9.5\n",
      "\u001b[32m\u001b[1m Installed\u001b[22m\u001b[39m IterTools ────────── v1.2.0\n",
      "\u001b[32m\u001b[1m Installed\u001b[22m\u001b[39m DataStructures ───── v0.17.0\n",
      "\u001b[32m\u001b[1m Installed\u001b[22m\u001b[39m StatsBase ────────── v0.32.0\n",
      "\u001b[32m\u001b[1m  Updating\u001b[22m\u001b[39m `~/.julia/environments/v1.0/Project.toml`\n",
      " \u001b[90m [91a5bcdd]\u001b[39m\u001b[92m + Plots v0.26.1\u001b[39m\n",
      "\u001b[32m\u001b[1m  Updating\u001b[22m\u001b[39m `~/.julia/environments/v1.0/Manifest.toml`\n",
      " \u001b[90m [3da002f7]\u001b[39m\u001b[92m + ColorTypes v0.8.0\u001b[39m\n",
      " \u001b[90m [5ae59095]\u001b[39m\u001b[92m + Colors v0.9.5\u001b[39m\n",
      " \u001b[90m [d38c429a]\u001b[39m\u001b[92m + Contour v0.5.1\u001b[39m\n",
      " \u001b[90m [9a962f9c]\u001b[39m\u001b[92m + DataAPI v1.0.1\u001b[39m\n",
      " \u001b[90m [864edb3b]\u001b[39m\u001b[92m + DataStructures v0.17.0\u001b[39m\n",
      " \u001b[90m [c87230d0]\u001b[39m\u001b[92m + FFMPEG v0.2.2\u001b[39m\n",
      " \u001b[90m [53c48c17]\u001b[39m\u001b[92m + FixedPointNumbers v0.6.1\u001b[39m\n",
      " \u001b[90m [28b8d3ca]\u001b[39m\u001b[92m + GR v0.41.0\u001b[39m\n",
      " \u001b[90m [4d00f742]\u001b[39m\u001b[92m + GeometryTypes v0.7.5\u001b[39m\n",
      " \u001b[90m [c8e1da08]\u001b[39m\u001b[92m + IterTools v1.2.0\u001b[39m\n",
      " \u001b[90m [442fdcdd]\u001b[39m\u001b[92m + Measures v0.3.0\u001b[39m\n",
      " \u001b[90m [e1d29d7a]\u001b[39m\u001b[92m + Missings v0.4.1\u001b[39m\n",
      " \u001b[90m [77ba4419]\u001b[39m\u001b[92m + NaNMath v0.3.2\u001b[39m\n",
      " \u001b[90m [bac558e1]\u001b[39m\u001b[92m + OrderedCollections v1.1.0\u001b[39m\n",
      " \u001b[90m [ccf2f8ad]\u001b[39m\u001b[92m + PlotThemes v0.3.0\u001b[39m\n",
      " \u001b[90m [995b91a9]\u001b[39m\u001b[92m + PlotUtils v0.5.8\u001b[39m\n",
      " \u001b[90m [91a5bcdd]\u001b[39m\u001b[92m + Plots v0.26.1\u001b[39m\n",
      " \u001b[90m [3cdcf5f2]\u001b[39m\u001b[92m + RecipesBase v0.7.0\u001b[39m\n",
      " \u001b[90m [189a3867]\u001b[39m\u001b[92m + Reexport v0.2.0\u001b[39m\n",
      " \u001b[90m [ae029012]\u001b[39m\u001b[92m + Requires v0.5.2\u001b[39m\n",
      " \u001b[90m [992d4aef]\u001b[39m\u001b[92m + Showoff v0.3.1\u001b[39m\n",
      " \u001b[90m [a2af1166]\u001b[39m\u001b[92m + SortingAlgorithms v0.3.1\u001b[39m\n",
      " \u001b[90m [90137ffa]\u001b[39m\u001b[92m + StaticArrays v0.11.0\u001b[39m\n",
      " \u001b[90m [2913bbd2]\u001b[39m\u001b[92m + StatsBase v0.32.0\u001b[39m\n",
      "\u001b[32m\u001b[1m  Building\u001b[22m\u001b[39m FFMPEG → `~/.julia/packages/FFMPEG/9JQpZ/deps/build.log`\n",
      "\u001b[32m\u001b[1m  Building\u001b[22m\u001b[39m GR ────→ `~/.julia/packages/GR/ZI5OE/deps/build.log`\n",
      "\u001b[32m\u001b[1m  Building\u001b[22m\u001b[39m Plots ─→ `~/.julia/packages/Plots/l0VjU/deps/build.log`\n",
      "\u001b[32m\u001b[1m Resolving\u001b[22m\u001b[39m package versions...\n",
      "\u001b[32m\u001b[1m Installed\u001b[22m\u001b[39m ArrayInterface ────────────── v1.2.1\n",
      "\u001b[32m\u001b[1m Installed\u001b[22m\u001b[39m Widgets ───────────────────── v0.6.1\n",
      "\u001b[32m\u001b[1m Installed\u001b[22m\u001b[39m IterableTables ────────────── v0.11.0\n",
      "\u001b[32m\u001b[1m Installed\u001b[22m\u001b[39m StatsPlots ────────────────── v0.10.2\n",
      "\u001b[32m\u001b[1m Installed\u001b[22m\u001b[39m DiffRules ─────────────────── v0.0.10\n",
      "\u001b[32m\u001b[1m Installed\u001b[22m\u001b[39m Arpack ────────────────────── v0.3.1\n",
      "\u001b[32m\u001b[1m Installed\u001b[22m\u001b[39m Distributions ─────────────── v0.21.1\n",
      "\u001b[32m\u001b[1m Installed\u001b[22m\u001b[39m Optim ─────────────────────── v0.19.2\n",
      "\u001b[32m\u001b[1m Installed\u001b[22m\u001b[39m NLSolversBase ─────────────── v7.4.0\n",
      "\u001b[32m\u001b[1m Installed\u001b[22m\u001b[39m DiffEqDiffTools ───────────── v1.3.0\n",
      "\u001b[32m\u001b[1m Installed\u001b[22m\u001b[39m TableTraits ───────────────── v1.0.0\n",
      "\u001b[32m\u001b[1m Installed\u001b[22m\u001b[39m ForwardDiff ───────────────── v0.10.3\n",
      "\u001b[32m\u001b[1m Installed\u001b[22m\u001b[39m StatsFuns ─────────────────── v0.8.0\n",
      "\u001b[32m\u001b[1m Installed\u001b[22m\u001b[39m Calculus ──────────────────── v0.5.0\n",
      "\u001b[32m\u001b[1m Installed\u001b[22m\u001b[39m LineSearches ──────────────── v7.0.1\n",
      "\u001b[32m\u001b[1m Installed\u001b[22m\u001b[39m SpecialFunctions ──────────── v0.7.2\n",
      "\u001b[32m\u001b[1m Installed\u001b[22m\u001b[39m DataValueInterfaces ───────── v1.0.0\n",
      "\u001b[32m\u001b[1m Installed\u001b[22m\u001b[39m AxisAlgorithms ────────────── v1.0.0\n",
      "\u001b[32m\u001b[1m Installed\u001b[22m\u001b[39m WoodburyMatrices ──────────── v0.4.1\n",
      "\u001b[32m\u001b[1m Installed\u001b[22m\u001b[39m PositiveFactorizations ────── v0.2.2\n",
      "\u001b[32m\u001b[1m Installed\u001b[22m\u001b[39m OffsetArrays ──────────────── v0.11.1\n",
      "\u001b[32m\u001b[1m Installed\u001b[22m\u001b[39m KernelDensity ─────────────── v0.5.1\n",
      "\u001b[32m\u001b[1m Installed\u001b[22m\u001b[39m URIParser ─────────────────── v0.4.0\n",
      "\u001b[32m\u001b[1m Installed\u001b[22m\u001b[39m DiffResults ───────────────── v0.0.4\n",
      "\u001b[32m\u001b[1m Installed\u001b[22m\u001b[39m FFTW ──────────────────────── v0.3.0\n",
      "\u001b[32m\u001b[1m Installed\u001b[22m\u001b[39m FillArrays ────────────────── v0.6.3\n",
      "\u001b[32m\u001b[1m Installed\u001b[22m\u001b[39m QuadGK ────────────────────── v2.0.3\n",
      "\u001b[32m\u001b[1m Installed\u001b[22m\u001b[39m Distances ─────────────────── v0.8.0\n",
      "\u001b[32m\u001b[1m Installed\u001b[22m\u001b[39m AbstractFFTs ──────────────── v0.4.1\n",
      "\u001b[32m\u001b[1m Installed\u001b[22m\u001b[39m Observables ───────────────── v0.2.3\n",
      "\u001b[32m\u001b[1m Installed\u001b[22m\u001b[39m Rmath ─────────────────────── v0.5.0\n",
      "\u001b[32m\u001b[1m Installed\u001b[22m\u001b[39m Parameters ────────────────── v0.10.3\n",
      "\u001b[32m\u001b[1m Installed\u001b[22m\u001b[39m Interpolations ────────────── v0.12.2\n",
      "\u001b[32m\u001b[1m Installed\u001b[22m\u001b[39m NearestNeighbors ──────────── v0.4.3\n",
      "\u001b[32m\u001b[1m Installed\u001b[22m\u001b[39m Clustering ────────────────── v0.13.2\n",
      "\u001b[32m\u001b[1m Installed\u001b[22m\u001b[39m PDMats ────────────────────── v0.9.9\n",
      "\u001b[32m\u001b[1m Installed\u001b[22m\u001b[39m Ratios ────────────────────── v0.3.1\n",
      "\u001b[32m\u001b[1m Installed\u001b[22m\u001b[39m TableTraitsUtils ──────────── v1.0.0\n",
      "\u001b[32m\u001b[1m Installed\u001b[22m\u001b[39m BinDeps ───────────────────── v0.8.10\n",
      "\u001b[32m\u001b[1m Installed\u001b[22m\u001b[39m DataValues ────────────────── v0.4.12\n",
      "\u001b[32m\u001b[1m Installed\u001b[22m\u001b[39m CommonSubexpressions ──────── v0.2.0\n",
      "\u001b[32m\u001b[1m Installed\u001b[22m\u001b[39m IteratorInterfaceExtensions ─ v1.0.0\n",
      "\u001b[32m\u001b[1m  Updating\u001b[22m\u001b[39m `~/.julia/environments/v1.0/Project.toml`\n",
      " \u001b[90m [f3b207a7]\u001b[39m\u001b[92m + StatsPlots v0.10.2\u001b[39m\n",
      "\u001b[32m\u001b[1m  Updating\u001b[22m\u001b[39m `~/.julia/environments/v1.0/Manifest.toml`\n",
      " \u001b[90m [621f4979]\u001b[39m\u001b[92m + AbstractFFTs v0.4.1\u001b[39m\n",
      " \u001b[90m [7d9fca2a]\u001b[39m\u001b[92m + Arpack v0.3.1\u001b[39m\n",
      " \u001b[90m [4fba245c]\u001b[39m\u001b[92m + ArrayInterface v1.2.1\u001b[39m\n",
      " \u001b[90m [13072b0f]\u001b[39m\u001b[92m + AxisAlgorithms v1.0.0\u001b[39m\n",
      " \u001b[90m [9e28174c]\u001b[39m\u001b[92m + BinDeps v0.8.10\u001b[39m\n",
      " \u001b[90m [49dc2e85]\u001b[39m\u001b[92m + Calculus v0.5.0\u001b[39m\n",
      " \u001b[90m [aaaa29a8]\u001b[39m\u001b[92m + Clustering v0.13.2\u001b[39m\n",
      " \u001b[90m [bbf7d656]\u001b[39m\u001b[92m + CommonSubexpressions v0.2.0\u001b[39m\n",
      " \u001b[90m [e2d170a0]\u001b[39m\u001b[92m + DataValueInterfaces v1.0.0\u001b[39m\n",
      " \u001b[90m [e7dc6d0d]\u001b[39m\u001b[92m + DataValues v0.4.12\u001b[39m\n",
      " \u001b[90m [01453d9d]\u001b[39m\u001b[92m + DiffEqDiffTools v1.3.0\u001b[39m\n",
      " \u001b[90m [163ba53b]\u001b[39m\u001b[92m + DiffResults v0.0.4\u001b[39m\n",
      " \u001b[90m [b552c78f]\u001b[39m\u001b[92m + DiffRules v0.0.10\u001b[39m\n",
      " \u001b[90m [b4f34e82]\u001b[39m\u001b[92m + Distances v0.8.0\u001b[39m\n",
      " \u001b[90m [31c24e10]\u001b[39m\u001b[92m + Distributions v0.21.1\u001b[39m\n",
      " \u001b[90m [7a1cc6ca]\u001b[39m\u001b[92m + FFTW v0.3.0\u001b[39m\n",
      " \u001b[90m [1a297f60]\u001b[39m\u001b[92m + FillArrays v0.6.3\u001b[39m\n",
      " \u001b[90m [f6369f11]\u001b[39m\u001b[92m + ForwardDiff v0.10.3\u001b[39m\n",
      " \u001b[90m [a98d9a8b]\u001b[39m\u001b[92m + Interpolations v0.12.2\u001b[39m\n",
      " \u001b[90m [1c8ee90f]\u001b[39m\u001b[92m + IterableTables v0.11.0\u001b[39m\n",
      " \u001b[90m [82899510]\u001b[39m\u001b[92m + IteratorInterfaceExtensions v1.0.0\u001b[39m\n",
      " \u001b[90m [5ab0869b]\u001b[39m\u001b[92m + KernelDensity v0.5.1\u001b[39m\n",
      " \u001b[90m [d3d80556]\u001b[39m\u001b[92m + LineSearches v7.0.1\u001b[39m\n",
      " \u001b[90m [d41bc354]\u001b[39m\u001b[92m + NLSolversBase v7.4.0\u001b[39m\n",
      " \u001b[90m [b8a86587]\u001b[39m\u001b[92m + NearestNeighbors v0.4.3\u001b[39m\n",
      " \u001b[90m [510215fc]\u001b[39m\u001b[92m + Observables v0.2.3\u001b[39m\n",
      " \u001b[90m [6fe1bfb0]\u001b[39m\u001b[92m + OffsetArrays v0.11.1\u001b[39m\n",
      " \u001b[90m [429524aa]\u001b[39m\u001b[92m + Optim v0.19.2\u001b[39m\n",
      " \u001b[90m [90014a1f]\u001b[39m\u001b[92m + PDMats v0.9.9\u001b[39m\n",
      " \u001b[90m [d96e819e]\u001b[39m\u001b[92m + Parameters v0.10.3\u001b[39m\n",
      " \u001b[90m [85a6dd25]\u001b[39m\u001b[92m + PositiveFactorizations v0.2.2\u001b[39m\n",
      " \u001b[90m [1fd47b50]\u001b[39m\u001b[92m + QuadGK v2.0.3\u001b[39m\n",
      " \u001b[90m [c84ed2f1]\u001b[39m\u001b[92m + Ratios v0.3.1\u001b[39m\n",
      " \u001b[90m [79098fc4]\u001b[39m\u001b[92m + Rmath v0.5.0\u001b[39m\n",
      " \u001b[90m [276daf66]\u001b[39m\u001b[92m + SpecialFunctions v0.7.2\u001b[39m\n",
      " \u001b[90m [4c63d2b9]\u001b[39m\u001b[92m + StatsFuns v0.8.0\u001b[39m\n",
      " \u001b[90m [f3b207a7]\u001b[39m\u001b[92m + StatsPlots v0.10.2\u001b[39m\n",
      " \u001b[90m [3783bdb8]\u001b[39m\u001b[92m + TableTraits v1.0.0\u001b[39m\n",
      " \u001b[90m [382cd787]\u001b[39m\u001b[92m + TableTraitsUtils v1.0.0\u001b[39m\n",
      " \u001b[90m [30578b45]\u001b[39m\u001b[92m + URIParser v0.4.0\u001b[39m\n",
      " \u001b[90m [cc8bc4a8]\u001b[39m\u001b[92m + Widgets v0.6.1\u001b[39m\n",
      " \u001b[90m [efce3f68]\u001b[39m\u001b[92m + WoodburyMatrices v0.4.1\u001b[39m\n",
      " \u001b[90m [4607b0f0]\u001b[39m\u001b[92m + SuiteSparse \u001b[39m\n",
      "\u001b[32m\u001b[1m  Building\u001b[22m\u001b[39m Arpack ──────────→ `~/.julia/packages/Arpack/cu5By/deps/build.log`\n"
     ]
    },
    {
     "name": "stdout",
     "output_type": "stream",
     "text": [
      "\u001b[32m\u001b[1m  Building\u001b[22m\u001b[39m SpecialFunctions → `~/.julia/packages/SpecialFunctions/fvheQ/deps/build.log`\n",
      "\u001b[32m\u001b[1m  Building\u001b[22m\u001b[39m FFTW ────────────→ `~/.julia/packages/FFTW/2okGQ/deps/build.log`\n",
      "\u001b[32m\u001b[1m  Building\u001b[22m\u001b[39m Rmath ───────────→ `~/.julia/packages/Rmath/Py9gH/deps/build.log`\n"
     ]
    }
   ],
   "source": [
    "# Install libraries use in this work\n",
    "using Pkg\n",
    "Pkg.add(\"Distributed\")\n",
    "Pkg.add(\"Plots\")\n",
    "Pkg.add(\"StatsPlots\")"
   ]
  },
  {
   "cell_type": "code",
   "execution_count": 9,
   "metadata": {},
   "outputs": [
    {
     "name": "stderr",
     "output_type": "stream",
     "text": [
      "┌ Info: Precompiling Plots [91a5bcdd-55d7-5caf-9e0b-520d859cae80]\n",
      "└ @ Base loading.jl:1192\n",
      "┌ Info: Precompiling StatsPlots [f3b207a7-027a-5e70-b257-86293d7955fd]\n",
      "└ @ Base loading.jl:1192\n"
     ]
    }
   ],
   "source": [
    "using Distributed\n",
    "using Plots\n",
    "using StatsPlots"
   ]
  },
  {
   "cell_type": "code",
   "execution_count": 3,
   "metadata": {},
   "outputs": [],
   "source": [
    "@everywhere function B_deliver(m)\n",
    "    println(m)\n",
    "end"
   ]
  },
  {
   "cell_type": "markdown",
   "metadata": {},
   "source": [
    "### B_multicast"
   ]
  },
  {
   "cell_type": "code",
   "execution_count": 4,
   "metadata": {},
   "outputs": [
    {
     "data": {
      "text/plain": [
       "B_multicast (generic function with 1 method)"
      ]
     },
     "execution_count": 4,
     "metadata": {},
     "output_type": "execute_result"
    }
   ],
   "source": [
    "function B_multicast(workers,msg,func,sync)\n",
    "    if sync\n",
    "        for w in workers\n",
    "            @sync @spawnat w func(msg)\n",
    "        end\n",
    "    else\n",
    "        for w in workers\n",
    "            @spawnat w func(msg)\n",
    "        end\n",
    "    end\n",
    "end"
   ]
  },
  {
   "cell_type": "markdown",
   "metadata": {},
   "source": [
    "### Exercício 1: Sincronismo (2,0 pontos)\n",
    "\n",
    "Adicione 10 processos com o comando `addprocs` abaixo. \n",
    "\n",
    "_Atenção_: sua instalação local de Julia pode não conseguir adicionar 10 processos, use a [JuliaBox](https://juliabox.com)."
   ]
  },
  {
   "cell_type": "code",
   "execution_count": 5,
   "metadata": {},
   "outputs": [
    {
     "data": {
      "text/plain": [
       "10-element Array{Int32,1}:\n",
       "  2\n",
       "  3\n",
       "  4\n",
       "  5\n",
       "  6\n",
       "  7\n",
       "  8\n",
       "  9\n",
       " 10\n",
       " 11"
      ]
     },
     "execution_count": 5,
     "metadata": {},
     "output_type": "execute_result"
    }
   ],
   "source": [
    "addprocs(10)\n",
    "wrks = workers()"
   ]
  },
  {
   "cell_type": "markdown",
   "metadata": {},
   "source": [
    "Modifique a implementação do B-multicast para utilizar communicação síncrona."
   ]
  },
  {
   "cell_type": "markdown",
   "metadata": {},
   "source": [
    "Execute as duas versões do B-multicast (síncrona e assíncrona) e compare as saídas."
   ]
  },
  {
   "cell_type": "code",
   "execution_count": 6,
   "metadata": {},
   "outputs": [
    {
     "name": "stdout",
     "output_type": "stream",
     "text": [
      "      From worker 6:\toi!\n",
      "      From worker 2:\toi!\n",
      "      From worker 3:\toi!\n",
      "      From worker 4:\toi!\n",
      "      From worker 9:\toi!\n",
      "      From worker 10:\toi!\n",
      "      From worker 7:\toi!\n",
      "      From worker 8:\toi!\n",
      "      From worker 5:\toi!\n",
      "      From worker 11:\toi!\n"
     ]
    }
   ],
   "source": [
    "B_multicast(wrks,\"oi!\",println, false)"
   ]
  },
  {
   "cell_type": "code",
   "execution_count": 7,
   "metadata": {},
   "outputs": [
    {
     "name": "stdout",
     "output_type": "stream",
     "text": [
      "      From worker 2:\toi!\n",
      "      From worker 3:\toi!\n",
      "      From worker 4:\toi!\n",
      "      From worker 5:\toi!\n",
      "      From worker 6:\toi!\n",
      "      From worker 7:\toi!\n",
      "      From worker 8:\toi!\n",
      "      From worker 9:\toi!\n",
      "      From worker 10:\toi!\n",
      "      From worker 11:\toi!\n"
     ]
    }
   ],
   "source": [
    "B_multicast(wrks,\"oi!\",println, true)"
   ]
  },
  {
   "cell_type": "markdown",
   "metadata": {},
   "source": [
    "A ordem das mensagens das saídas foram as mesmas para ambas versões do B-multicast? Por quê?\n",
    "\n",
    "**Resposta**: _Não, como na implementação assíncrona a linguaguem nem dar a certeza de que foi lançado o processo não se tem certeza da ordem e nem da execução, pois com testes feitos no terminal nem chegava a printar no terminal, enquanto na execução síncrona imprima todos e em ordem de execução._"
   ]
  },
  {
   "cell_type": "markdown",
   "metadata": {},
   "source": [
    "### Exercício 2: Análise de desempenho do B-multicast (2,0 pontos)\n",
    "\n",
    "Meça o tempo de execução duas versões do B-multicast (síncrona e assíncrona). Dica: utilize a macro `@time`.\n",
    "\n",
    "* Execute 50 vezes essa medição e construa um gráfico em forma de barras:\n",
    "\t* cada barra representando cada versão do B-multicast;\n",
    "\t* calcule e coloque no gráfico o [intervalo de confiança](https://en.wikipedia.org/wiki/Confidence_interval) com nível de 95%."
   ]
  },
  {
   "cell_type": "code",
   "execution_count": null,
   "metadata": {},
   "outputs": [],
   "source": [
    "sync_times = []\n",
    "async_times = []\n",
    "z = 1.96 # Interval \n",
    "n_itr = 50 # number of interations\n",
    "\n",
    "@sync for i in 1:n_itr\n",
    "    push!(sync_times, @elapsed B_multicast(wrks,\"oi!\",println, true))\n",
    "    push!(async_times, @elapsed B_multicast(wrks,\"oi!\",println, true))\n",
    "end\n",
    "\n",
    "groupedbar([\"B_multicast\"], )"
   ]
  },
  {
   "cell_type": "markdown",
   "metadata": {},
   "source": [
    "**Gráfico**: _por aqui_    \n",
    "    \n",
    "    \n",
    "* Qual das duas versões teve o menor tempo de execução? Por quê?\n",
    "\n",
    "**Resposta**: _em itálico_\n",
    "\n",
    "\n",
    "\n",
    "### Exercício 3: Análise de desempenho do R-multicast (3,0 pontos)\n",
    "\n",
    "Implemente duas versões do algoritmo R-multicast: uma assíncrona e outra síncrona.\n",
    "\n",
    "* R-multicast assíncrono"
   ]
  },
  {
   "cell_type": "code",
   "execution_count": 7,
   "metadata": {},
   "outputs": [],
   "source": [
    "#TODO implementação do R-multicast síncrono."
   ]
  },
  {
   "cell_type": "markdown",
   "metadata": {},
   "source": [
    "* R-multicast assíncrono"
   ]
  },
  {
   "cell_type": "code",
   "execution_count": 8,
   "metadata": {},
   "outputs": [],
   "source": [
    "#TODO implementação do R-multicast assíncrono."
   ]
  },
  {
   "cell_type": "markdown",
   "metadata": {
    "collapsed": true
   },
   "source": [
    "Faça a mesma análise de desempenho para o R-multicast que você fez no Exercício 2.\n",
    "\n",
    "\n",
    "**Gráfico**: _por aqui_    \n",
    "    \n",
    "    \n",
    "* Qual das duas versões (R-multicast assíncrono e assíncrono) teve o menor tempo de execução? Por quê?\n",
    "\n",
    "**Resposta**: _em itálico_\n",
    "\n",
    "\n",
    "\n",
    "### Exercício 4: Análise de desempenho: B-multicast vs. R-multicast (3,0 pontos)\n",
    "\n",
    "Para cada uma das comparações abaixo, qual dos algoritmos teve o menor tempo de execução? Por quê?\n",
    "\n",
    "* B-multicast assíncrono vs. R-multicast assíncrono.\n",
    "    \n",
    "\n",
    "**Resposta**: _em itálico_    \n",
    "    \n",
    "* B-multicast síncrono vs. R-multicast síncrono.\n",
    "\n",
    "\n",
    "**Resposta**: _em itálico_\n",
    "\n",
    "## Entrega\n",
    "\n",
    "As respostas deverão ser entregues nos devidos campos desse arquivo, ou seja, em [Markdown](https://en.wikipedia.org/wiki/Markdown) e no formato [IJulia Notebook](https://github.com/JuliaLang/IJulia.jl).\n",
    "\n",
    "O programa deve ser implementado na linguagem de programação **Julia**. Seu trabalho será testado na [JuliaBox](https://juliabox.com), portanto teste seu arquivo IJulia na JulizBox antes de enviá-lo.\n",
    "\n",
    "\n",
    "### Forma \n",
    "\n",
    "O arquivo IJulia Notebook deverá ser entregue ao Professor **exclusivamente através do Google Classroom**.\n",
    "\n",
    "\n",
    "\n",
    "A responsabilidade sobre a integridade do arquivo contendo trabalho é exclusivamente dos discentes. Serão ignorados os trabalhos cujos arquivos não conseguirem ser abertos pelo Professor.\n",
    "\n",
    "### Prazos\n",
    "\n",
    "O prazo de entrega sem atraso é o dia **18/11/17**.\n",
    "\n",
    "Trabalhos entregues com atraso serão aceitos, no máximo, até o o dia **19/11/17**. Serão descontados 5% da nota obtida por dia de atraso.\n",
    "\n",
    "\n",
    "## Pontuação extra\n",
    "\n",
    "O(a) discente que realizar mais tarefas, além do que foi especificado neste trabalho, o professor atribuirá de 0,5 a 1,0 ponto extra a depender da relevância da contribuição no programa. O critério será decidido pelo professor. \n",
    "\n",
    "O(a) discente deve indicar qual é a tarefa executada. Por exemplo, adição de funcionalidades, armazenamento de dados em arquivo, documentação de código, comentários em inglês sem erros ortográficos, etc.\n",
    "\n",
    "\n",
    "**Plágio** A nota zero será atribuída caso haja qualquer tipo de cópia parcial ou integral assim como as devidas medidas legais. Leia a [cartilha sobre plágio](http://www.noticias.uff.br/arquivos/cartilha-sobre-plagio-academico.pdf).\n",
    "\n",
    "## Disclaimer\n",
    "\n",
    "Esse material foi elaborado pelo [Prof. André Lage Freitas](https://sites.google.com/a/ic.ufal.br/andrelage/) e está licenciado sob a licença _GNU General Public License v3.0_."
   ]
  }
 ],
 "metadata": {
  "kernelspec": {
   "display_name": "Julia 1.0.4",
   "language": "julia",
   "name": "julia-1.0"
  },
  "language_info": {
   "file_extension": ".jl",
   "mimetype": "application/julia",
   "name": "julia",
   "version": "1.0.4"
  }
 },
 "nbformat": 4,
 "nbformat_minor": 1
}
